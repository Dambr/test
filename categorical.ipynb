{
 "cells": [
  {
   "cell_type": "code",
   "execution_count": 4,
   "metadata": {
    "scrolled": true
   },
   "outputs": [],
   "source": [
    "from tensorflow.keras.models import Sequential\n",
    "from tensorflow.keras.layers import Dense, Embedding, MaxPooling1D, Conv1D, GlobalMaxPooling1D, Dropout, LSTM, GRU\n",
    "from tensorflow.keras import utils\n",
    "from tensorflow.keras.preprocessing.sequence import pad_sequences\n",
    "from tensorflow.keras.preprocessing.text import Tokenizer\n",
    "from tensorflow.keras.callbacks import ModelCheckpoint\n",
    "from tensorflow.keras import utils\n",
    "import pandas as pd\n",
    "import numpy as np\n",
    "import matplotlib.pyplot as plt\n",
    "from os import listdir\n",
    "from os import path\n",
    "import pickle"
   ]
  },
  {
   "cell_type": "code",
   "execution_count": 5,
   "metadata": {},
   "outputs": [],
   "source": [
    "# Максимальное количество слов \n",
    "num_words = 10000\n",
    "# Максимальная длина новости\n",
    "max_news_len = 100\n",
    "# Количество классов новостей\n",
    "nb_classes = 10"
   ]
  },
  {
   "cell_type": "code",
   "execution_count": 6,
   "metadata": {},
   "outputs": [],
   "source": [
    "def put_content(files, directory):\n",
    "    for file_name in files:\n",
    "        ids.append(int(file_name.replace(\".txt\", \"\").split(\"_\")[0]))\n",
    "        grades.append(int(file_name.replace(\".txt\", \"\").split(\"_\")[1]))\n",
    "        texts.append(open(path.join(directory, file_name), 'r').read())"
   ]
  },
  {
   "cell_type": "code",
   "execution_count": 7,
   "metadata": {},
   "outputs": [],
   "source": [
    "# Подготовка тренировочного набора\n",
    "ids = []\n",
    "grades = []\n",
    "texts = []\n",
    "\n",
    "train_neg_dir = \"aclImdb/train/neg\"\n",
    "train_pos_dir = \"aclImdb/train/pos\"\n",
    "\n",
    "train_neg_files = list(filter(lambda x: x.endswith('.txt'), listdir(train_neg_dir)))\n",
    "train_pos_files = list(filter(lambda x: x.endswith('.txt'), listdir(train_pos_dir)))\n",
    "\n",
    "put_content(train_neg_files, train_neg_dir)\n",
    "put_content(train_pos_files, train_pos_dir)\n",
    "\n",
    "train_df = pd.DataFrame({\n",
    "    'id': ids,\n",
    "    'grade': grades,\n",
    "    'text': texts\n",
    "})\n",
    "\n",
    "train_df = train_df.iloc[np.random.permutation(len(train_df))].reset_index(drop=True)"
   ]
  },
  {
   "cell_type": "code",
   "execution_count": 8,
   "metadata": {},
   "outputs": [
    {
     "data": {
      "text/html": [
       "<div>\n",
       "<style scoped>\n",
       "    .dataframe tbody tr th:only-of-type {\n",
       "        vertical-align: middle;\n",
       "    }\n",
       "\n",
       "    .dataframe tbody tr th {\n",
       "        vertical-align: top;\n",
       "    }\n",
       "\n",
       "    .dataframe thead th {\n",
       "        text-align: right;\n",
       "    }\n",
       "</style>\n",
       "<table border=\"1\" class=\"dataframe\">\n",
       "  <thead>\n",
       "    <tr style=\"text-align: right;\">\n",
       "      <th></th>\n",
       "      <th>id</th>\n",
       "      <th>grade</th>\n",
       "      <th>text</th>\n",
       "    </tr>\n",
       "  </thead>\n",
       "  <tbody>\n",
       "    <tr>\n",
       "      <th>0</th>\n",
       "      <td>7390</td>\n",
       "      <td>2</td>\n",
       "      <td>How do you spell washed up fat Italian who can...</td>\n",
       "    </tr>\n",
       "    <tr>\n",
       "      <th>1</th>\n",
       "      <td>4951</td>\n",
       "      <td>1</td>\n",
       "      <td>I commented on this when it first debuted and ...</td>\n",
       "    </tr>\n",
       "    <tr>\n",
       "      <th>2</th>\n",
       "      <td>9548</td>\n",
       "      <td>10</td>\n",
       "      <td>It is an excellent thriller from Turkey which ...</td>\n",
       "    </tr>\n",
       "    <tr>\n",
       "      <th>3</th>\n",
       "      <td>1490</td>\n",
       "      <td>1</td>\n",
       "      <td>First of all, Jenna Jameson is the best actres...</td>\n",
       "    </tr>\n",
       "    <tr>\n",
       "      <th>4</th>\n",
       "      <td>7197</td>\n",
       "      <td>2</td>\n",
       "      <td>OK. I think the TV show is kind of cute and it...</td>\n",
       "    </tr>\n",
       "    <tr>\n",
       "      <th>...</th>\n",
       "      <td>...</td>\n",
       "      <td>...</td>\n",
       "      <td>...</td>\n",
       "    </tr>\n",
       "    <tr>\n",
       "      <th>24995</th>\n",
       "      <td>2080</td>\n",
       "      <td>9</td>\n",
       "      <td>The quote I used for my summary occurs about h...</td>\n",
       "    </tr>\n",
       "    <tr>\n",
       "      <th>24996</th>\n",
       "      <td>8393</td>\n",
       "      <td>8</td>\n",
       "      <td>The Marriage of Maria Braun (MMB) is about a G...</td>\n",
       "    </tr>\n",
       "    <tr>\n",
       "      <th>24997</th>\n",
       "      <td>2888</td>\n",
       "      <td>10</td>\n",
       "      <td>Any child old enough to sit up in front of a s...</td>\n",
       "    </tr>\n",
       "    <tr>\n",
       "      <th>24998</th>\n",
       "      <td>9555</td>\n",
       "      <td>4</td>\n",
       "      <td>You have to understand, when Wargames was rele...</td>\n",
       "    </tr>\n",
       "    <tr>\n",
       "      <th>24999</th>\n",
       "      <td>11469</td>\n",
       "      <td>4</td>\n",
       "      <td>ORCA is not exactly bad, but it's not really R...</td>\n",
       "    </tr>\n",
       "  </tbody>\n",
       "</table>\n",
       "<p>25000 rows × 3 columns</p>\n",
       "</div>"
      ],
      "text/plain": [
       "          id  grade                                               text\n",
       "0       7390      2  How do you spell washed up fat Italian who can...\n",
       "1       4951      1  I commented on this when it first debuted and ...\n",
       "2       9548     10  It is an excellent thriller from Turkey which ...\n",
       "3       1490      1  First of all, Jenna Jameson is the best actres...\n",
       "4       7197      2  OK. I think the TV show is kind of cute and it...\n",
       "...      ...    ...                                                ...\n",
       "24995   2080      9  The quote I used for my summary occurs about h...\n",
       "24996   8393      8  The Marriage of Maria Braun (MMB) is about a G...\n",
       "24997   2888     10  Any child old enough to sit up in front of a s...\n",
       "24998   9555      4  You have to understand, when Wargames was rele...\n",
       "24999  11469      4  ORCA is not exactly bad, but it's not really R...\n",
       "\n",
       "[25000 rows x 3 columns]"
      ]
     },
     "execution_count": 8,
     "metadata": {},
     "output_type": "execute_result"
    }
   ],
   "source": [
    "train_df"
   ]
  },
  {
   "cell_type": "code",
   "execution_count": 9,
   "metadata": {},
   "outputs": [],
   "source": [
    "# Подготовка тестового набора\n",
    "ids = []\n",
    "grades = []\n",
    "texts = []\n",
    "\n",
    "test_neg_dir = \"aclImdb/test/neg\"\n",
    "test_pos_dir = \"aclImdb/test/pos\"\n",
    "\n",
    "test_neg_files = list(filter(lambda x: x.endswith('.txt'), listdir(test_neg_dir)))\n",
    "test_pos_files = list(filter(lambda x: x.endswith('.txt'), listdir(test_pos_dir)))\n",
    "\n",
    "put_content(test_neg_files, test_neg_dir)\n",
    "put_content(test_pos_files, test_pos_dir)\n",
    "\n",
    "test_df = pd.DataFrame({\n",
    "    'id': ids,\n",
    "    'grade': grades,\n",
    "    'text': texts\n",
    "})\n",
    "\n",
    "test_df = test_df.iloc[np.random.permutation(len(test_df))].reset_index(drop=True)"
   ]
  },
  {
   "cell_type": "code",
   "execution_count": 11,
   "metadata": {},
   "outputs": [
    {
     "data": {
      "text/html": [
       "<div>\n",
       "<style scoped>\n",
       "    .dataframe tbody tr th:only-of-type {\n",
       "        vertical-align: middle;\n",
       "    }\n",
       "\n",
       "    .dataframe tbody tr th {\n",
       "        vertical-align: top;\n",
       "    }\n",
       "\n",
       "    .dataframe thead th {\n",
       "        text-align: right;\n",
       "    }\n",
       "</style>\n",
       "<table border=\"1\" class=\"dataframe\">\n",
       "  <thead>\n",
       "    <tr style=\"text-align: right;\">\n",
       "      <th></th>\n",
       "      <th>id</th>\n",
       "      <th>grade</th>\n",
       "      <th>text</th>\n",
       "    </tr>\n",
       "  </thead>\n",
       "  <tbody>\n",
       "    <tr>\n",
       "      <th>0</th>\n",
       "      <td>3330</td>\n",
       "      <td>3</td>\n",
       "      <td>A group of 7 gold prospectors head into a mine...</td>\n",
       "    </tr>\n",
       "    <tr>\n",
       "      <th>1</th>\n",
       "      <td>723</td>\n",
       "      <td>2</td>\n",
       "      <td>at first i thought 'nasaan ka man' might be on...</td>\n",
       "    </tr>\n",
       "    <tr>\n",
       "      <th>2</th>\n",
       "      <td>5205</td>\n",
       "      <td>10</td>\n",
       "      <td>Apart from the low budget, there never seems t...</td>\n",
       "    </tr>\n",
       "    <tr>\n",
       "      <th>3</th>\n",
       "      <td>473</td>\n",
       "      <td>9</td>\n",
       "      <td>You Are Alone is a beautiful, almost delicate ...</td>\n",
       "    </tr>\n",
       "    <tr>\n",
       "      <th>4</th>\n",
       "      <td>1907</td>\n",
       "      <td>10</td>\n",
       "      <td>Rudy Rae Moore is getting out of prison and ge...</td>\n",
       "    </tr>\n",
       "    <tr>\n",
       "      <th>...</th>\n",
       "      <td>...</td>\n",
       "      <td>...</td>\n",
       "      <td>...</td>\n",
       "    </tr>\n",
       "    <tr>\n",
       "      <th>24995</th>\n",
       "      <td>5489</td>\n",
       "      <td>2</td>\n",
       "      <td>'Illuminata' has expanded the limits of John T...</td>\n",
       "    </tr>\n",
       "    <tr>\n",
       "      <th>24996</th>\n",
       "      <td>5881</td>\n",
       "      <td>10</td>\n",
       "      <td>This is one of the great movies of all time. T...</td>\n",
       "    </tr>\n",
       "    <tr>\n",
       "      <th>24997</th>\n",
       "      <td>10409</td>\n",
       "      <td>2</td>\n",
       "      <td>This is a slick little movie well worth your t...</td>\n",
       "    </tr>\n",
       "    <tr>\n",
       "      <th>24998</th>\n",
       "      <td>1969</td>\n",
       "      <td>4</td>\n",
       "      <td>Having already seen the original \"Jack Frost\",...</td>\n",
       "    </tr>\n",
       "    <tr>\n",
       "      <th>24999</th>\n",
       "      <td>8144</td>\n",
       "      <td>3</td>\n",
       "      <td>For an indy film this is probably a bit better...</td>\n",
       "    </tr>\n",
       "  </tbody>\n",
       "</table>\n",
       "<p>25000 rows × 3 columns</p>\n",
       "</div>"
      ],
      "text/plain": [
       "          id  grade                                               text\n",
       "0       3330      3  A group of 7 gold prospectors head into a mine...\n",
       "1        723      2  at first i thought 'nasaan ka man' might be on...\n",
       "2       5205     10  Apart from the low budget, there never seems t...\n",
       "3        473      9  You Are Alone is a beautiful, almost delicate ...\n",
       "4       1907     10  Rudy Rae Moore is getting out of prison and ge...\n",
       "...      ...    ...                                                ...\n",
       "24995   5489      2  'Illuminata' has expanded the limits of John T...\n",
       "24996   5881     10  This is one of the great movies of all time. T...\n",
       "24997  10409      2  This is a slick little movie well worth your t...\n",
       "24998   1969      4  Having already seen the original \"Jack Frost\",...\n",
       "24999   8144      3  For an indy film this is probably a bit better...\n",
       "\n",
       "[25000 rows x 3 columns]"
      ]
     },
     "execution_count": 11,
     "metadata": {},
     "output_type": "execute_result"
    }
   ],
   "source": [
    "test_df"
   ]
  },
  {
   "cell_type": "code",
   "execution_count": 10,
   "metadata": {},
   "outputs": [],
   "source": [
    "# Создание токенайзера\n",
    "tokenizer = Tokenizer(num_words=num_words)"
   ]
  },
  {
   "cell_type": "code",
   "execution_count": 7,
   "metadata": {},
   "outputs": [],
   "source": [
    "# Тренировка tokenizer\n",
    "tokenizer.fit_on_texts(train_df['text'])"
   ]
  },
  {
   "cell_type": "code",
   "execution_count": 8,
   "metadata": {},
   "outputs": [],
   "source": [
    "# Сохранение обученного tokenizer\n",
    "with open('tokenizer.pickle', 'wb') as handle:\n",
    "    pickle.dump(tokenizer, handle, protocol=pickle.HIGHEST_PROTOCOL)"
   ]
  },
  {
   "cell_type": "code",
   "execution_count": 22,
   "metadata": {},
   "outputs": [],
   "source": [
    "# Преобразование текста в последовательности чисел\n",
    "sequences = tokenizer.texts_to_sequences(train_df['text'])"
   ]
  },
  {
   "cell_type": "code",
   "execution_count": 23,
   "metadata": {},
   "outputs": [],
   "source": [
    "# Ограничить длину отзыва\n",
    "x_train = pad_sequences(sequences, maxlen=max_news_len)"
   ]
  },
  {
   "cell_type": "code",
   "execution_count": 11,
   "metadata": {},
   "outputs": [],
   "source": [
    "# Сверточная нейронная сеть"
   ]
  },
  {
   "cell_type": "code",
   "execution_count": 12,
   "metadata": {},
   "outputs": [],
   "source": [
    "# Создание самой модели\n",
    "model = Sequential()\n",
    "model.add(Embedding(num_words, 32, input_length=max_news_len))\n",
    "model.add(Conv1D(250, 5, padding='valid', activation='relu'))\n",
    "model.add(Conv1D(250, 5, padding='valid', activation='relu'))\n",
    "model.add(Conv1D(250, 5, padding='valid', activation='relu'))\n",
    "model.add(Conv1D(250, 5, padding='valid', activation='relu'))\n",
    "model.add(GlobalMaxPooling1D())\n",
    "model.add(Dense(128, activation='relu'))\n",
    "model.add(Dense(nb_classes, activation='softmax'))"
   ]
  },
  {
   "cell_type": "code",
   "execution_count": 13,
   "metadata": {},
   "outputs": [
    {
     "name": "stdout",
     "output_type": "stream",
     "text": [
      "Model: \"sequential\"\n",
      "_________________________________________________________________\n",
      "Layer (type)                 Output Shape              Param #   \n",
      "=================================================================\n",
      "embedding (Embedding)        (None, 100, 32)           320000    \n",
      "_________________________________________________________________\n",
      "conv1d (Conv1D)              (None, 96, 250)           40250     \n",
      "_________________________________________________________________\n",
      "conv1d_1 (Conv1D)            (None, 92, 250)           312750    \n",
      "_________________________________________________________________\n",
      "conv1d_2 (Conv1D)            (None, 88, 250)           312750    \n",
      "_________________________________________________________________\n",
      "conv1d_3 (Conv1D)            (None, 84, 250)           312750    \n",
      "_________________________________________________________________\n",
      "global_max_pooling1d (Global (None, 250)               0         \n",
      "_________________________________________________________________\n",
      "dense (Dense)                (None, 128)               32128     \n",
      "_________________________________________________________________\n",
      "dense_1 (Dense)              (None, 10)                1290      \n",
      "=================================================================\n",
      "Total params: 1,331,918\n",
      "Trainable params: 1,331,918\n",
      "Non-trainable params: 0\n",
      "_________________________________________________________________\n"
     ]
    }
   ],
   "source": [
    "# Компиляция модели\n",
    "model.compile(optimizer='adam', \n",
    "              loss='categorical_crossentropy', \n",
    "              metrics=['accuracy'])\n",
    "model.summary()"
   ]
  },
  {
   "cell_type": "code",
   "execution_count": 15,
   "metadata": {},
   "outputs": [
    {
     "name": "stdout",
     "output_type": "stream",
     "text": [
      "WARNING:tensorflow:From /Library/Frameworks/Python.framework/Versions/3.7/lib/python3.7/site-packages/tensorflow/python/ops/resource_variable_ops.py:1817: calling BaseResourceVariable.__init__ (from tensorflow.python.ops.resource_variable_ops) with constraint is deprecated and will be removed in a future version.\n",
      "Instructions for updating:\n",
      "If using Keras pass *_constraint arguments to layers.\n",
      "INFO:tensorflow:Assets written to: model_categorical/assets\n"
     ]
    }
   ],
   "source": [
    "# Сохренение модели\n",
    "model.save('model_categorical')"
   ]
  },
  {
   "cell_type": "code",
   "execution_count": 16,
   "metadata": {},
   "outputs": [],
   "source": [
    "# Создаем callback для сохранения нейронной сети на каждой эпохе,\n",
    "    # если качество работы на проверочном наборе данных улучшилось.\n",
    "# Сеть сохраняется в файл best_model_categorical.h5\n",
    "model_save_path = 'best_model_categorical.h5'\n",
    "checkpoint_callback = ModelCheckpoint(model_save_path, \n",
    "                                      monitor='val_accuracy',\n",
    "                                      save_best_only=True,\n",
    "                                      verbose=1)"
   ]
  },
  {
   "cell_type": "code",
   "execution_count": 25,
   "metadata": {},
   "outputs": [],
   "source": [
    "# Правильные ответы\n",
    "y_train = utils.to_categorical(train_df['grade'] - 1, nb_classes)"
   ]
  },
  {
   "cell_type": "code",
   "execution_count": 19,
   "metadata": {},
   "outputs": [
    {
     "name": "stdout",
     "output_type": "stream",
     "text": [
      "Epoch 1/3\n",
      "176/176 [==============================] - ETA: 0s - loss: 2.0255 - accuracy: 0.2110\n",
      "Epoch 00001: val_accuracy improved from -inf to 0.28120, saving model to best_model_categorical.h5\n",
      "176/176 [==============================] - 157s 890ms/step - loss: 2.0255 - accuracy: 0.2110 - val_loss: 1.9312 - val_accuracy: 0.2812\n",
      "Epoch 2/3\n",
      "176/176 [==============================] - ETA: 0s - loss: 1.7538 - accuracy: 0.3376\n",
      "Epoch 00002: val_accuracy improved from 0.28120 to 0.36120, saving model to best_model_categorical.h5\n",
      "176/176 [==============================] - 156s 888ms/step - loss: 1.7538 - accuracy: 0.3376 - val_loss: 1.6915 - val_accuracy: 0.3612\n",
      "Epoch 3/3\n",
      "176/176 [==============================] - ETA: 0s - loss: 1.5041 - accuracy: 0.4218\n",
      "Epoch 00003: val_accuracy improved from 0.36120 to 0.37880, saving model to best_model_categorical.h5\n",
      "176/176 [==============================] - 155s 879ms/step - loss: 1.5041 - accuracy: 0.4218 - val_loss: 1.6524 - val_accuracy: 0.3788\n"
     ]
    }
   ],
   "source": [
    "history = model.fit(x_train, \n",
    "                            y_train, \n",
    "                            epochs=3,\n",
    "                            batch_size=128,\n",
    "                            validation_split=0.1,\n",
    "                            callbacks=[checkpoint_callback])"
   ]
  },
  {
   "cell_type": "code",
   "execution_count": 20,
   "metadata": {},
   "outputs": [
    {
     "data": {
      "image/png": "[encoded data removed]",
      "text/plain": [
       "<Figure size 432x288 with 1 Axes>"
      ]
     },
     "metadata": {
      "needs_background": "light"
     },
     "output_type": "display_data"
    }
   ],
   "source": [
    "plt.plot(history.history['accuracy'], \n",
    "         label='Доля верных ответов на обучающем наборе')\n",
    "plt.plot(history.history['val_accuracy'], \n",
    "         label='Доля верных ответов на проверочном наборе')\n",
    "plt.xlabel('Эпоха обучения')\n",
    "plt.ylabel('Доля верных ответов')\n",
    "plt.legend()\n",
    "plt.show()"
   ]
  },
  {
   "cell_type": "code",
   "execution_count": 14,
   "metadata": {},
   "outputs": [],
   "source": [
    "# Дополнительные домонстрационные модели"
   ]
  },
  {
   "cell_type": "code",
   "execution_count": 29,
   "metadata": {},
   "outputs": [],
   "source": [
    "# Сеть LSTM\n",
    "model_lstm = Sequential()\n",
    "model_lstm.add(Embedding(num_words, 32, input_length=max_news_len))\n",
    "model_lstm.add(LSTM(16))\n",
    "model_lstm.add(Dense(nb_classes, activation='softmax'))"
   ]
  },
  {
   "cell_type": "code",
   "execution_count": 30,
   "metadata": {},
   "outputs": [],
   "source": [
    "model_lstm.compile(optimizer='adam', \n",
    "              loss='categorical_crossentropy', \n",
    "              metrics=['accuracy'])"
   ]
  },
  {
   "cell_type": "code",
   "execution_count": 31,
   "metadata": {},
   "outputs": [
    {
     "name": "stdout",
     "output_type": "stream",
     "text": [
      "Model: \"sequential_3\"\n",
      "_________________________________________________________________\n",
      "Layer (type)                 Output Shape              Param #   \n",
      "=================================================================\n",
      "embedding_3 (Embedding)      (None, 100, 32)           320000    \n",
      "_________________________________________________________________\n",
      "lstm_3 (LSTM)                (None, 16)                3136      \n",
      "_________________________________________________________________\n",
      "dense_3 (Dense)              (None, 10)                170       \n",
      "=================================================================\n",
      "Total params: 323,306\n",
      "Trainable params: 323,306\n",
      "Non-trainable params: 0\n",
      "_________________________________________________________________\n"
     ]
    }
   ],
   "source": [
    "model_lstm.summary()"
   ]
  },
  {
   "cell_type": "code",
   "execution_count": 39,
   "metadata": {},
   "outputs": [],
   "source": [
    "model_lstm_save_path = 'best_model_lstm.h5'\n",
    "checkpoint_callback_lstm = ModelCheckpoint(model_lstm_save_path, \n",
    "                                      monitor='val_accuracy',\n",
    "                                      save_best_only=True,\n",
    "                                      verbose=1)"
   ]
  },
  {
   "cell_type": "code",
   "execution_count": 40,
   "metadata": {},
   "outputs": [
    {
     "name": "stdout",
     "output_type": "stream",
     "text": [
      "Epoch 1/5\n",
      "176/176 [==============================] - ETA: 0s - loss: 2.0289 - accuracy: 0.2019\n",
      "Epoch 00001: val_accuracy improved from -inf to 0.20600, saving model to best_model_lstm.h5\n",
      "176/176 [==============================] - 12s 68ms/step - loss: 2.0289 - accuracy: 0.2019 - val_loss: 2.0233 - val_accuracy: 0.2060\n",
      "Epoch 2/5\n",
      "176/176 [==============================] - ETA: 0s - loss: 2.0288 - accuracy: 0.2020\n",
      "Epoch 00002: val_accuracy did not improve from 0.20600\n",
      "176/176 [==============================] - 12s 66ms/step - loss: 2.0288 - accuracy: 0.2020 - val_loss: 2.0246 - val_accuracy: 0.1920\n",
      "Epoch 3/5\n",
      "176/176 [==============================] - ETA: 0s - loss: 2.0283 - accuracy: 0.2031\n",
      "Epoch 00003: val_accuracy did not improve from 0.20600\n",
      "176/176 [==============================] - 12s 70ms/step - loss: 2.0283 - accuracy: 0.2031 - val_loss: 2.0230 - val_accuracy: 0.2060\n",
      "Epoch 4/5\n",
      "176/176 [==============================] - ETA: 0s - loss: 2.0283 - accuracy: 0.2010\n",
      "Epoch 00004: val_accuracy did not improve from 0.20600\n",
      "176/176 [==============================] - 13s 73ms/step - loss: 2.0283 - accuracy: 0.2010 - val_loss: 2.0231 - val_accuracy: 0.2060\n",
      "Epoch 5/5\n",
      "176/176 [==============================] - ETA: 0s - loss: 2.0284 - accuracy: 0.2023\n",
      "Epoch 00005: val_accuracy did not improve from 0.20600\n",
      "176/176 [==============================] - 11s 63ms/step - loss: 2.0284 - accuracy: 0.2023 - val_loss: 2.0221 - val_accuracy: 0.2060\n"
     ]
    }
   ],
   "source": [
    "history_lstm = model_lstm.fit(x_train, \n",
    "                              y_train, \n",
    "                              epochs=5,\n",
    "                              batch_size=128,\n",
    "                              validation_split=0.1,\n",
    "                              callbacks=[checkpoint_callback_lstm])"
   ]
  },
  {
   "cell_type": "code",
   "execution_count": null,
   "metadata": {},
   "outputs": [],
   "source": [
    "# Сеть GRU"
   ]
  },
  {
   "cell_type": "code",
   "execution_count": 35,
   "metadata": {},
   "outputs": [],
   "source": [
    "model_gru = Sequential()\n",
    "model_gru.add(Embedding(num_words, 32, input_length=max_news_len))\n",
    "model_gru.add(GRU(16))\n",
    "model_gru.add(Dense(nb_classes, activation='softmax'))"
   ]
  },
  {
   "cell_type": "code",
   "execution_count": 36,
   "metadata": {},
   "outputs": [],
   "source": [
    "model_gru.compile(optimizer='adam', \n",
    "              loss='categorical_crossentropy', \n",
    "              metrics=['accuracy'])"
   ]
  },
  {
   "cell_type": "code",
   "execution_count": 38,
   "metadata": {},
   "outputs": [
    {
     "name": "stdout",
     "output_type": "stream",
     "text": [
      "Model: \"sequential_4\"\n",
      "_________________________________________________________________\n",
      "Layer (type)                 Output Shape              Param #   \n",
      "=================================================================\n",
      "embedding_4 (Embedding)      (None, 100, 32)           320000    \n",
      "_________________________________________________________________\n",
      "gru (GRU)                    (None, 16)                2400      \n",
      "_________________________________________________________________\n",
      "dense_4 (Dense)              (None, 10)                170       \n",
      "=================================================================\n",
      "Total params: 322,570\n",
      "Trainable params: 322,570\n",
      "Non-trainable params: 0\n",
      "_________________________________________________________________\n"
     ]
    }
   ],
   "source": [
    "model_gru.summary()"
   ]
  },
  {
   "cell_type": "code",
   "execution_count": 41,
   "metadata": {},
   "outputs": [],
   "source": [
    "model_gru_save_path = 'best_model_gru.h5'\n",
    "checkpoint_callback_gru = ModelCheckpoint(model_gru_save_path, \n",
    "                                      monitor='val_accuracy',\n",
    "                                      save_best_only=True,\n",
    "                                      verbose=1)"
   ]
  },
  {
   "cell_type": "code",
   "execution_count": 42,
   "metadata": {},
   "outputs": [
    {
     "name": "stdout",
     "output_type": "stream",
     "text": [
      "Epoch 1/5\n",
      "176/176 [==============================] - ETA: 0s - loss: 2.0940 - accuracy: 0.2005\n",
      "Epoch 00001: val_accuracy improved from -inf to 0.20600, saving model to best_model_gru.h5\n",
      "176/176 [==============================] - 14s 80ms/step - loss: 2.0940 - accuracy: 0.2005 - val_loss: 2.0318 - val_accuracy: 0.2060\n",
      "Epoch 2/5\n",
      "176/176 [==============================] - ETA: 0s - loss: 2.0316 - accuracy: 0.2000\n",
      "Epoch 00002: val_accuracy did not improve from 0.20600\n",
      "176/176 [==============================] - 14s 78ms/step - loss: 2.0316 - accuracy: 0.2000 - val_loss: 2.0241 - val_accuracy: 0.1920\n",
      "Epoch 3/5\n",
      "176/176 [==============================] - ETA: 0s - loss: 2.0300 - accuracy: 0.2035\n",
      "Epoch 00003: val_accuracy did not improve from 0.20600\n",
      "176/176 [==============================] - 12s 70ms/step - loss: 2.0300 - accuracy: 0.2035 - val_loss: 2.0233 - val_accuracy: 0.2060\n",
      "Epoch 4/5\n",
      "176/176 [==============================] - ETA: 0s - loss: 2.0293 - accuracy: 0.2020\n",
      "Epoch 00004: val_accuracy did not improve from 0.20600\n",
      "176/176 [==============================] - 13s 74ms/step - loss: 2.0293 - accuracy: 0.2020 - val_loss: 2.0229 - val_accuracy: 0.2060\n",
      "Epoch 5/5\n",
      "176/176 [==============================] - ETA: 0s - loss: 2.0289 - accuracy: 0.1998\n",
      "Epoch 00005: val_accuracy did not improve from 0.20600\n",
      "176/176 [==============================] - 13s 74ms/step - loss: 2.0289 - accuracy: 0.1998 - val_loss: 2.0225 - val_accuracy: 0.2060\n"
     ]
    }
   ],
   "source": [
    "history_gru = model_gru.fit(x_train, \n",
    "                              y_train, \n",
    "                              epochs=5,\n",
    "                              batch_size=128,\n",
    "                              validation_split=0.1,\n",
    "                              callbacks=[checkpoint_callback_gru])"
   ]
  },
  {
   "cell_type": "code",
   "execution_count": 21,
   "metadata": {},
   "outputs": [],
   "source": [
    "# Тестирование работы"
   ]
  },
  {
   "cell_type": "code",
   "execution_count": 44,
   "metadata": {},
   "outputs": [],
   "source": [
    "test_sequences = tokenizer.texts_to_sequences(test_df['text'])"
   ]
  },
  {
   "cell_type": "code",
   "execution_count": 45,
   "metadata": {},
   "outputs": [],
   "source": [
    "x_test = pad_sequences(test_sequences, maxlen=max_news_len)"
   ]
  },
  {
   "cell_type": "code",
   "execution_count": 46,
   "metadata": {},
   "outputs": [],
   "source": [
    "y_test = utils.to_categorical(test_df['grade'] - 1, nb_classes)"
   ]
  },
  {
   "cell_type": "code",
   "execution_count": 47,
   "metadata": {},
   "outputs": [],
   "source": [
    "# Качество Одномерная сверточная сеть"
   ]
  },
  {
   "cell_type": "code",
   "execution_count": 48,
   "metadata": {},
   "outputs": [],
   "source": [
    "from tensorflow import keras\n",
    "model_categorical = keras.models.load_model('model_categorical')\n",
    "model_categorical_save_path = 'best_model_categorical.h5'\n",
    "model_categorical.load_weights(model_categorical_save_path)"
   ]
  },
  {
   "cell_type": "code",
   "execution_count": 49,
   "metadata": {},
   "outputs": [
    {
     "name": "stdout",
     "output_type": "stream",
     "text": [
      "782/782 [==============================] - 46s 59ms/step - loss: 2.1828 - accuracy: 0.2000\n"
     ]
    },
    {
     "data": {
      "text/plain": [
       "[2.1828248500823975, 0.19995999336242676]"
      ]
     },
     "execution_count": 49,
     "metadata": {},
     "output_type": "execute_result"
    }
   ],
   "source": [
    "# Определение доли верных ответов на тестовом наборе\n",
    "model_categorical.evaluate(x_test, y_test, verbose=1)"
   ]
  },
  {
   "cell_type": "code",
   "execution_count": 50,
   "metadata": {},
   "outputs": [
    {
     "name": "stdout",
     "output_type": "stream",
     "text": [
      "782/782 [==============================] - 8s 10ms/step - loss: 2.0244 - accuracy: 0.2009\n"
     ]
    },
    {
     "data": {
      "text/plain": [
       "[2.0243635177612305, 0.2008800059556961]"
      ]
     },
     "execution_count": 50,
     "metadata": {},
     "output_type": "execute_result"
    }
   ],
   "source": [
    "model_lstm.evaluate(x_test, y_test, verbose=1)"
   ]
  },
  {
   "cell_type": "code",
   "execution_count": 51,
   "metadata": {},
   "outputs": [
    {
     "name": "stdout",
     "output_type": "stream",
     "text": [
      "782/782 [==============================] - 8s 10ms/step - loss: 2.0256 - accuracy: 0.2009\n"
     ]
    },
    {
     "data": {
      "text/plain": [
       "[2.0255818367004395, 0.2008800059556961]"
      ]
     },
     "execution_count": 51,
     "metadata": {},
     "output_type": "execute_result"
    }
   ],
   "source": [
    "model_gru.evaluate(x_test, y_test, verbose=1)"
   ]
  },
  {
   "cell_type": "code",
   "execution_count": 30,
   "metadata": {},
   "outputs": [],
   "source": [
    "# Оцениваем тональность на собственном отзыве\n",
    "# Загрузка обученного tokenizer\n",
    "with open('tokenizer.pickle', 'rb') as handle:\n",
    "    tokenizer = pickle.load(handle)"
   ]
  },
  {
   "cell_type": "code",
   "execution_count": 31,
   "metadata": {},
   "outputs": [],
   "source": [
    "text = \"\"\"\n",
    "good\n",
    "\"\"\""
   ]
  },
  {
   "cell_type": "code",
   "execution_count": 32,
   "metadata": {},
   "outputs": [],
   "source": [
    "sequence = tokenizer.texts_to_sequences([text])"
   ]
  },
  {
   "cell_type": "code",
   "execution_count": 33,
   "metadata": {},
   "outputs": [],
   "source": [
    "data = pad_sequences(sequence, maxlen=max_news_len)"
   ]
  },
  {
   "cell_type": "code",
   "execution_count": 35,
   "metadata": {},
   "outputs": [],
   "source": [
    "result = list(model_categorical.predict(data)[0])"
   ]
  },
  {
   "cell_type": "code",
   "execution_count": 36,
   "metadata": {},
   "outputs": [
    {
     "name": "stdout",
     "output_type": "stream",
     "text": [
      "Кол-во звезд отзыва 10\n"
     ]
    }
   ],
   "source": [
    "print('Кол-во звезд отзыва', result.index(max(result)) + 1)"
   ]
  },
  {
   "cell_type": "code",
   "execution_count": 37,
   "metadata": {},
   "outputs": [
    {
     "name": "stdout",
     "output_type": "stream",
     "text": [
      "Отзыв положительный\n"
     ]
    }
   ],
   "source": [
    "if result.index(max(result)) < 5:\n",
    "    print('Отзыв отрицательный')\n",
    "else:\n",
    "    print('Отзыв положительный')"
   ]
  },
  {
   "cell_type": "code",
   "execution_count": null,
   "metadata": {},
   "outputs": [],
   "source": []
  }
 ],
 "metadata": {
  "kernelspec": {
   "display_name": "Python 3",
   "language": "python",
   "name": "python3"
  },
  "language_info": {
   "codemirror_mode": {
    "name": "ipython",
    "version": 3
   },
   "file_extension": ".py",
   "mimetype": "text/x-python",
   "name": "python",
   "nbconvert_exporter": "python",
   "pygments_lexer": "ipython3",
   "version": "3.7.8"
  }
 },
 "nbformat": 4,
 "nbformat_minor": 2
}
