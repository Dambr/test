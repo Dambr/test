{
 "cells": [
  {
   "cell_type": "code",
   "execution_count": 15,
   "metadata": {
    "scrolled": true
   },
   "outputs": [],
   "source": [
    "from tensorflow.keras.models import Sequential\n",
    "from tensorflow.keras.layers import Dense, Embedding, MaxPooling1D, Conv1D, GlobalMaxPooling1D, Dropout, LSTM, GRU\n",
    "from tensorflow.keras import utils\n",
    "from tensorflow.keras.preprocessing.sequence import pad_sequences\n",
    "from tensorflow.keras.preprocessing.text import Tokenizer\n",
    "from tensorflow.keras.callbacks import ModelCheckpoint\n",
    "import pandas as pd\n",
    "import numpy as np\n",
    "import matplotlib.pyplot as plt\n",
    "from os import listdir\n",
    "from os import path\n",
    "import pickle"
   ]
  },
  {
   "cell_type": "code",
   "execution_count": 3,
   "metadata": {},
   "outputs": [],
   "source": [
    "# Максимальное количество слов \n",
    "num_words = 10000\n",
    "# Максимальная длина новости\n",
    "max_news_len = 100"
   ]
  },
  {
   "cell_type": "code",
   "execution_count": 4,
   "metadata": {},
   "outputs": [],
   "source": [
    "def put_content(files, directory):\n",
    "    for file_name in files:\n",
    "        ids.append(int(file_name.replace(\".txt\", \"\").split(\"_\")[0]))\n",
    "        grades.append(0 if int(file_name.replace(\".txt\", \"\").split(\"_\")[1]) < 5 else 1)\n",
    "        texts.append(open(path.join(directory, file_name), 'r').read())"
   ]
  },
  {
   "cell_type": "code",
   "execution_count": 5,
   "metadata": {},
   "outputs": [],
   "source": [
    "# Подготовка тренировочного набора\n",
    "ids = []\n",
    "grades = []\n",
    "texts = []\n",
    "\n",
    "train_neg_dir = \"aclImdb/train/neg\"\n",
    "train_pos_dir = \"aclImdb/train/pos\"\n",
    "\n",
    "train_neg_files = list(filter(lambda x: x.endswith('.txt'), listdir(train_neg_dir)))\n",
    "train_pos_files = list(filter(lambda x: x.endswith('.txt'), listdir(train_pos_dir)))\n",
    "\n",
    "put_content(train_neg_files, train_neg_dir)\n",
    "put_content(train_pos_files, train_pos_dir)\n",
    "\n",
    "train_df = pd.DataFrame({\n",
    "    'id': ids,\n",
    "    'grade': grades,\n",
    "    'text': texts\n",
    "})\n",
    "\n",
    "train_df = train_df.iloc[np.random.permutation(len(train_df))].reset_index(drop=True)"
   ]
  },
  {
   "cell_type": "code",
   "execution_count": 6,
   "metadata": {},
   "outputs": [],
   "source": [
    "# Подготовка тестового набора\n",
    "ids = []\n",
    "grades = []\n",
    "texts = []\n",
    "\n",
    "test_neg_dir = \"aclImdb/test/neg\"\n",
    "test_pos_dir = \"aclImdb/test/pos\"\n",
    "\n",
    "test_neg_files = list(filter(lambda x: x.endswith('.txt'), listdir(test_neg_dir)))\n",
    "test_pos_files = list(filter(lambda x: x.endswith('.txt'), listdir(test_pos_dir)))\n",
    "\n",
    "put_content(test_neg_files, test_neg_dir)\n",
    "put_content(test_pos_files, test_pos_dir)\n",
    "\n",
    "test_df = pd.DataFrame({\n",
    "    'id': ids,\n",
    "    'grade': grades,\n",
    "    'text': texts\n",
    "})\n",
    "\n",
    "test_df = test_df.iloc[np.random.permutation(len(test_df))].reset_index(drop=True)"
   ]
  },
  {
   "cell_type": "code",
   "execution_count": 7,
   "metadata": {},
   "outputs": [],
   "source": [
    "# Создание токенайзера\n",
    "tokenizer = Tokenizer(num_words=num_words)"
   ]
  },
  {
   "cell_type": "code",
   "execution_count": 8,
   "metadata": {},
   "outputs": [],
   "source": [
    "# Тренировка токенайзера\n",
    "tokenizer.fit_on_texts(train_df['text'])"
   ]
  },
  {
   "cell_type": "code",
   "execution_count": 9,
   "metadata": {},
   "outputs": [],
   "source": [
    "# Сохранение токенайзера\n",
    "with open('tokenizer.pickle', 'wb') as handle:\n",
    "    pickle.dump(tokenizer, handle, protocol=pickle.HIGHEST_PROTOCOL)"
   ]
  },
  {
   "cell_type": "code",
   "execution_count": 10,
   "metadata": {},
   "outputs": [],
   "source": [
    "# Преобразование текста в последовательности чисел\n",
    "sequences = tokenizer.texts_to_sequences(train_df['text'])"
   ]
  },
  {
   "cell_type": "code",
   "execution_count": 11,
   "metadata": {},
   "outputs": [],
   "source": [
    "# Ограничить длину отзыва\n",
    "x_train = pad_sequences(sequences, maxlen=max_news_len)"
   ]
  },
  {
   "cell_type": "code",
   "execution_count": 11,
   "metadata": {},
   "outputs": [],
   "source": [
    "# Сверточная нейронная сеть"
   ]
  },
  {
   "cell_type": "code",
   "execution_count": 12,
   "metadata": {},
   "outputs": [],
   "source": [
    "# Создание самой модели\n",
    "model = Sequential()\n",
    "model.add(Embedding(num_words, 32, input_length=max_news_len))\n",
    "model.add(Conv1D(250, 5, padding='valid', activation='relu'))\n",
    "model.add(Conv1D(250, 5, padding='valid', activation='relu'))\n",
    "model.add(Conv1D(250, 5, padding='valid', activation='relu'))\n",
    "model.add(Conv1D(250, 5, padding='valid', activation='relu'))\n",
    "model.add(GlobalMaxPooling1D())\n",
    "model.add(Dense(128, activation='relu'))\n",
    "model.add(Dense(1, activation='sigmoid'))"
   ]
  },
  {
   "cell_type": "code",
   "execution_count": 13,
   "metadata": {
    "collapsed": true
   },
   "outputs": [
    {
     "name": "stdout",
     "output_type": "stream",
     "text": [
      "Model: \"sequential\"\n",
      "_________________________________________________________________\n",
      "Layer (type)                 Output Shape              Param #   \n",
      "=================================================================\n",
      "embedding (Embedding)        (None, 100, 32)           320000    \n",
      "_________________________________________________________________\n",
      "conv1d (Conv1D)              (None, 96, 250)           40250     \n",
      "_________________________________________________________________\n",
      "conv1d_1 (Conv1D)            (None, 92, 250)           312750    \n",
      "_________________________________________________________________\n",
      "conv1d_2 (Conv1D)            (None, 88, 250)           312750    \n",
      "_________________________________________________________________\n",
      "conv1d_3 (Conv1D)            (None, 84, 250)           312750    \n",
      "_________________________________________________________________\n",
      "global_max_pooling1d (Global (None, 250)               0         \n",
      "_________________________________________________________________\n",
      "dense (Dense)                (None, 128)               32128     \n",
      "_________________________________________________________________\n",
      "dense_1 (Dense)              (None, 1)                 129       \n",
      "=================================================================\n",
      "Total params: 1,330,757\n",
      "Trainable params: 1,330,757\n",
      "Non-trainable params: 0\n",
      "_________________________________________________________________\n"
     ]
    }
   ],
   "source": [
    "# Компиляция модели\n",
    "model.compile(optimizer='adam', \n",
    "              loss='binary_crossentropy', \n",
    "              metrics=['accuracy'])\n",
    "model.summary()"
   ]
  },
  {
   "cell_type": "code",
   "execution_count": 14,
   "metadata": {},
   "outputs": [
    {
     "name": "stdout",
     "output_type": "stream",
     "text": [
      "WARNING:tensorflow:From /Library/Frameworks/Python.framework/Versions/3.7/lib/python3.7/site-packages/tensorflow/python/ops/resource_variable_ops.py:1817: calling BaseResourceVariable.__init__ (from tensorflow.python.ops.resource_variable_ops) with constraint is deprecated and will be removed in a future version.\n",
      "Instructions for updating:\n",
      "If using Keras pass *_constraint arguments to layers.\n",
      "INFO:tensorflow:Assets written to: model_binary/assets\n"
     ]
    }
   ],
   "source": [
    "# Сохренение модели\n",
    "model.save('model_binary')"
   ]
  },
  {
   "cell_type": "code",
   "execution_count": 15,
   "metadata": {},
   "outputs": [],
   "source": [
    "# Создаем callback для сохранения нейронной сети на каждой эпохе,\n",
    "    # если качество работы на проверочном наборе данных улучшилось.\n",
    "# Сеть сохраняется в файл best_model.h5\n",
    "model_binary_save_path = 'best_model_binary.h5'\n",
    "checkpoint_callback = ModelCheckpoint(model_binary_save_path, \n",
    "                                      monitor='val_accuracy',\n",
    "                                      save_best_only=True,\n",
    "                                      verbose=1)"
   ]
  },
  {
   "cell_type": "code",
   "execution_count": 12,
   "metadata": {},
   "outputs": [],
   "source": [
    "# Правильные ответы\n",
    "y_train = train_df['grade']"
   ]
  },
  {
   "cell_type": "code",
   "execution_count": 24,
   "metadata": {
    "collapsed": true
   },
   "outputs": [
    {
     "name": "stdout",
     "output_type": "stream",
     "text": [
      "Epoch 1/3\n",
      "176/176 [==============================] - ETA: 0s - loss: 0.6804 - accuracy: 0.5264\n",
      "Epoch 00001: val_accuracy improved from -inf to 0.71400, saving model to best_model_binary.h5\n",
      "176/176 [==============================] - 167s 950ms/step - loss: 0.6804 - accuracy: 0.5264 - val_loss: 0.5671 - val_accuracy: 0.7140\n",
      "Epoch 2/3\n",
      "176/176 [==============================] - ETA: 0s - loss: 0.4424 - accuracy: 0.7948\n",
      "Epoch 00002: val_accuracy improved from 0.71400 to 0.82160, saving model to best_model_binary.h5\n",
      "176/176 [==============================] - 161s 914ms/step - loss: 0.4424 - accuracy: 0.7948 - val_loss: 0.3908 - val_accuracy: 0.8216\n",
      "Epoch 3/3\n",
      "176/176 [==============================] - ETA: 0s - loss: 0.2830 - accuracy: 0.8823\n",
      "Epoch 00003: val_accuracy improved from 0.82160 to 0.84960, saving model to best_model_binary.h5\n",
      "176/176 [==============================] - 158s 898ms/step - loss: 0.2830 - accuracy: 0.8823 - val_loss: 0.3540 - val_accuracy: 0.8496\n"
     ]
    }
   ],
   "source": [
    "history = model.fit(x_train, \n",
    "                            y_train, \n",
    "                            epochs=3,\n",
    "                            batch_size=128,\n",
    "                            validation_split=0.1,\n",
    "                            callbacks=[checkpoint_callback])"
   ]
  },
  {
   "cell_type": "code",
   "execution_count": 25,
   "metadata": {},
   "outputs": [
    {
     "data": {
      "image/png": "[encoded data removed]",
      "text/plain": [
       "<Figure size 432x288 with 1 Axes>"
      ]
     },
     "metadata": {
      "needs_background": "light"
     },
     "output_type": "display_data"
    }
   ],
   "source": [
    "plt.plot(history.history['accuracy'], \n",
    "         label='Доля верных ответов на обучающем наборе')\n",
    "plt.plot(history.history['val_accuracy'], \n",
    "         label='Доля верных ответов на проверочном наборе')\n",
    "plt.xlabel('Эпоха обучения')\n",
    "plt.ylabel('Доля верных ответов')\n",
    "plt.legend()\n",
    "plt.show()"
   ]
  },
  {
   "cell_type": "code",
   "execution_count": 13,
   "metadata": {},
   "outputs": [],
   "source": [
    "# Дополнительные домонстрационные модели"
   ]
  },
  {
   "cell_type": "code",
   "execution_count": 56,
   "metadata": {},
   "outputs": [],
   "source": [
    "# Сеть LSTM\n",
    "model_lstm = Sequential()\n",
    "model_lstm.add(Embedding(num_words, 32, input_length=max_news_len))\n",
    "model_lstm.add(LSTM(16))\n",
    "model_lstm.add(Dense(1, activation='sigmoid'))"
   ]
  },
  {
   "cell_type": "code",
   "execution_count": 57,
   "metadata": {},
   "outputs": [],
   "source": [
    "model_lstm.compile(optimizer='adam', \n",
    "              loss='binary_crossentropy', \n",
    "              metrics=['accuracy'])"
   ]
  },
  {
   "cell_type": "code",
   "execution_count": 58,
   "metadata": {},
   "outputs": [
    {
     "name": "stdout",
     "output_type": "stream",
     "text": [
      "Model: \"sequential_8\"\n",
      "_________________________________________________________________\n",
      "Layer (type)                 Output Shape              Param #   \n",
      "=================================================================\n",
      "embedding_8 (Embedding)      (None, 100, 32)           320000    \n",
      "_________________________________________________________________\n",
      "lstm_1 (LSTM)                (None, 16)                3136      \n",
      "_________________________________________________________________\n",
      "dense_6 (Dense)              (None, 1)                 17        \n",
      "=================================================================\n",
      "Total params: 323,153\n",
      "Trainable params: 323,153\n",
      "Non-trainable params: 0\n",
      "_________________________________________________________________\n"
     ]
    }
   ],
   "source": [
    "model_lstm.summary()"
   ]
  },
  {
   "cell_type": "code",
   "execution_count": 59,
   "metadata": {},
   "outputs": [],
   "source": [
    "model_lstm_save_path = 'best_model_lstm.h5'\n",
    "checkpoint_callback_lstm = ModelCheckpoint(model_lstm_save_path, \n",
    "                                      monitor='val_accuracy',\n",
    "                                      save_best_only=True,\n",
    "                                      verbose=1)"
   ]
  },
  {
   "cell_type": "code",
   "execution_count": 60,
   "metadata": {},
   "outputs": [
    {
     "name": "stdout",
     "output_type": "stream",
     "text": [
      "Epoch 1/5\n",
      "176/176 [==============================] - ETA: 0s - loss: 0.5169 - accuracy: 0.7425\n",
      "Epoch 00001: val_accuracy improved from -inf to 0.85240, saving model to best_model_lstm.h5\n",
      "176/176 [==============================] - 12s 66ms/step - loss: 0.5169 - accuracy: 0.7425 - val_loss: 0.3496 - val_accuracy: 0.8524\n",
      "Epoch 2/5\n",
      "176/176 [==============================] - ETA: 0s - loss: 0.2820 - accuracy: 0.8869\n",
      "Epoch 00002: val_accuracy improved from 0.85240 to 0.86240, saving model to best_model_lstm.h5\n",
      "176/176 [==============================] - 11s 64ms/step - loss: 0.2820 - accuracy: 0.8869 - val_loss: 0.3193 - val_accuracy: 0.8624\n",
      "Epoch 3/5\n",
      "176/176 [==============================] - ETA: 0s - loss: 0.2112 - accuracy: 0.9229\n",
      "Epoch 00003: val_accuracy did not improve from 0.86240\n",
      "176/176 [==============================] - 11s 62ms/step - loss: 0.2112 - accuracy: 0.9229 - val_loss: 0.3431 - val_accuracy: 0.8512\n",
      "Epoch 4/5\n",
      "176/176 [==============================] - ETA: 0s - loss: 0.1671 - accuracy: 0.9427\n",
      "Epoch 00004: val_accuracy did not improve from 0.86240\n",
      "176/176 [==============================] - 11s 62ms/step - loss: 0.1671 - accuracy: 0.9427 - val_loss: 0.3989 - val_accuracy: 0.8500\n",
      "Epoch 5/5\n",
      "176/176 [==============================] - ETA: 0s - loss: 0.1332 - accuracy: 0.9562\n",
      "Epoch 00005: val_accuracy did not improve from 0.86240\n",
      "176/176 [==============================] - 11s 62ms/step - loss: 0.1332 - accuracy: 0.9562 - val_loss: 0.4091 - val_accuracy: 0.8500\n"
     ]
    }
   ],
   "source": [
    "history_lstm = model_lstm.fit(x_train, \n",
    "                              y_train, \n",
    "                              epochs=5,\n",
    "                              batch_size=128,\n",
    "                              validation_split=0.1,\n",
    "                              callbacks=[checkpoint_callback_lstm])"
   ]
  },
  {
   "cell_type": "code",
   "execution_count": 32,
   "metadata": {},
   "outputs": [],
   "source": [
    "# Сеть GRU"
   ]
  },
  {
   "cell_type": "code",
   "execution_count": 44,
   "metadata": {},
   "outputs": [],
   "source": [
    "model_gru = Sequential()\n",
    "model_gru.add(Embedding(num_words, 32, input_length=max_news_len))\n",
    "model_gru.add(GRU(16))\n",
    "model_gru.add(Dense(1, activation='sigmoid'))"
   ]
  },
  {
   "cell_type": "code",
   "execution_count": 45,
   "metadata": {},
   "outputs": [],
   "source": [
    "model_gru.compile(optimizer='adam', \n",
    "              loss='binary_crossentropy', \n",
    "              metrics=['accuracy'])"
   ]
  },
  {
   "cell_type": "code",
   "execution_count": 46,
   "metadata": {},
   "outputs": [
    {
     "name": "stdout",
     "output_type": "stream",
     "text": [
      "Model: \"sequential_7\"\n",
      "_________________________________________________________________\n",
      "Layer (type)                 Output Shape              Param #   \n",
      "=================================================================\n",
      "embedding_7 (Embedding)      (None, 100, 32)           320000    \n",
      "_________________________________________________________________\n",
      "gru_5 (GRU)                  (None, 16)                2400      \n",
      "_________________________________________________________________\n",
      "dense_5 (Dense)              (None, 1)                 17        \n",
      "=================================================================\n",
      "Total params: 322,417\n",
      "Trainable params: 322,417\n",
      "Non-trainable params: 0\n",
      "_________________________________________________________________\n"
     ]
    }
   ],
   "source": [
    "model_gru.summary()"
   ]
  },
  {
   "cell_type": "code",
   "execution_count": 47,
   "metadata": {},
   "outputs": [],
   "source": [
    "model_gru_save_path = 'best_model_gru.h5'\n",
    "checkpoint_callback_gru = ModelCheckpoint(model_gru_save_path, \n",
    "                                      monitor='val_accuracy',\n",
    "                                      save_best_only=True,\n",
    "                                      verbose=1)"
   ]
  },
  {
   "cell_type": "code",
   "execution_count": 48,
   "metadata": {},
   "outputs": [
    {
     "name": "stdout",
     "output_type": "stream",
     "text": [
      "Epoch 1/5\n",
      "176/176 [==============================] - ETA: 0s - loss: 0.5505 - accuracy: 0.7002\n",
      "Epoch 00001: val_accuracy improved from -inf to 0.83800, saving model to best_model_gru.h5\n",
      "176/176 [==============================] - 13s 74ms/step - loss: 0.5505 - accuracy: 0.7002 - val_loss: 0.3765 - val_accuracy: 0.8380\n",
      "Epoch 2/5\n",
      "176/176 [==============================] - ETA: 0s - loss: 0.3032 - accuracy: 0.8762\n",
      "Epoch 00002: val_accuracy improved from 0.83800 to 0.84760, saving model to best_model_gru.h5\n",
      "176/176 [==============================] - 13s 71ms/step - loss: 0.3032 - accuracy: 0.8762 - val_loss: 0.3437 - val_accuracy: 0.8476\n",
      "Epoch 3/5\n",
      "176/176 [==============================] - ETA: 0s - loss: 0.2288 - accuracy: 0.9144\n",
      "Epoch 00003: val_accuracy improved from 0.84760 to 0.84920, saving model to best_model_gru.h5\n",
      "176/176 [==============================] - 12s 69ms/step - loss: 0.2288 - accuracy: 0.9144 - val_loss: 0.3548 - val_accuracy: 0.8492\n",
      "Epoch 4/5\n",
      "176/176 [==============================] - ETA: 0s - loss: 0.1863 - accuracy: 0.9335\n",
      "Epoch 00004: val_accuracy did not improve from 0.84920\n",
      "176/176 [==============================] - 12s 67ms/step - loss: 0.1863 - accuracy: 0.9335 - val_loss: 0.3833 - val_accuracy: 0.8448\n",
      "Epoch 5/5\n",
      "176/176 [==============================] - ETA: 0s - loss: 0.1549 - accuracy: 0.9483\n",
      "Epoch 00005: val_accuracy did not improve from 0.84920\n",
      "176/176 [==============================] - 12s 67ms/step - loss: 0.1549 - accuracy: 0.9483 - val_loss: 0.4041 - val_accuracy: 0.8436\n"
     ]
    }
   ],
   "source": [
    "history_gru = model_gru.fit(x_train, \n",
    "                              y_train, \n",
    "                              epochs=5,\n",
    "                              batch_size=128,\n",
    "                              validation_split=0.1,\n",
    "                              callbacks=[checkpoint_callback_gru])"
   ]
  },
  {
   "cell_type": "code",
   "execution_count": 50,
   "metadata": {},
   "outputs": [],
   "source": [
    "# Тестирование работы"
   ]
  },
  {
   "cell_type": "code",
   "execution_count": 51,
   "metadata": {},
   "outputs": [],
   "source": [
    "test_sequences = tokenizer.texts_to_sequences(test_df['text'])"
   ]
  },
  {
   "cell_type": "code",
   "execution_count": 52,
   "metadata": {},
   "outputs": [],
   "source": [
    "x_test = pad_sequences(test_sequences, maxlen=max_news_len)"
   ]
  },
  {
   "cell_type": "code",
   "execution_count": 53,
   "metadata": {},
   "outputs": [],
   "source": [
    "# Правильные ответы на тестовом наборе\n",
    "y_test = test_df['grade']"
   ]
  },
  {
   "cell_type": "code",
   "execution_count": 30,
   "metadata": {},
   "outputs": [],
   "source": [
    "# Качество Одномерная сверточная сеть"
   ]
  },
  {
   "cell_type": "code",
   "execution_count": 31,
   "metadata": {},
   "outputs": [],
   "source": [
    "from tensorflow import keras\n",
    "model_binary = keras.models.load_model('model_binary')\n",
    "model_binary_save_path = 'best_model_binary.h5'\n",
    "model_binary.load_weights(model_binary_save_path)"
   ]
  },
  {
   "cell_type": "code",
   "execution_count": 32,
   "metadata": {},
   "outputs": [
    {
     "name": "stdout",
     "output_type": "stream",
     "text": [
      "782/782 [==============================] - 45s 58ms/step - loss: 0.3890 - accuracy: 0.8280\n"
     ]
    },
    {
     "data": {
      "text/plain": [
       "[0.38895776867866516, 0.8279600143432617]"
      ]
     },
     "execution_count": 32,
     "metadata": {},
     "output_type": "execute_result"
    }
   ],
   "source": [
    "# Определение доли верных ответов на тестовом наборе\n",
    "model.evaluate(x_test, y_test, verbose=1)"
   ]
  },
  {
   "cell_type": "code",
   "execution_count": 61,
   "metadata": {},
   "outputs": [
    {
     "name": "stdout",
     "output_type": "stream",
     "text": [
      "782/782 [==============================] - 8s 10ms/step - loss: 0.4690 - accuracy: 0.8355\n"
     ]
    },
    {
     "data": {
      "text/plain": [
       "[0.4690352976322174, 0.8355200290679932]"
      ]
     },
     "execution_count": 61,
     "metadata": {},
     "output_type": "execute_result"
    }
   ],
   "source": [
    "model_lstm.evaluate(x_test, y_test, verbose=1)"
   ]
  },
  {
   "cell_type": "code",
   "execution_count": 55,
   "metadata": {},
   "outputs": [
    {
     "name": "stdout",
     "output_type": "stream",
     "text": [
      "782/782 [==============================] - 10s 12ms/step - loss: 0.4382 - accuracy: 0.8320\n"
     ]
    },
    {
     "data": {
      "text/plain": [
       "[0.4381607472896576, 0.8320000171661377]"
      ]
     },
     "execution_count": 55,
     "metadata": {},
     "output_type": "execute_result"
    }
   ],
   "source": [
    "model_gru.evaluate(x_test, y_test, verbose=1)"
   ]
  },
  {
   "cell_type": "code",
   "execution_count": 33,
   "metadata": {},
   "outputs": [],
   "source": [
    "# Оцениваем тональность на собственном отзыве"
   ]
  },
  {
   "cell_type": "code",
   "execution_count": 34,
   "metadata": {},
   "outputs": [],
   "source": [
    "text = \"\"\"\n",
    "bad\n",
    "\"\"\""
   ]
  },
  {
   "cell_type": "code",
   "execution_count": 35,
   "metadata": {},
   "outputs": [],
   "source": [
    "sequence = tokenizer.texts_to_sequences([text])"
   ]
  },
  {
   "cell_type": "code",
   "execution_count": 36,
   "metadata": {},
   "outputs": [],
   "source": [
    "data = pad_sequences(sequence, maxlen=max_news_len)"
   ]
  },
  {
   "cell_type": "code",
   "execution_count": 37,
   "metadata": {},
   "outputs": [
    {
     "data": {
      "text/plain": [
       "[0.43366772]"
      ]
     },
     "execution_count": 37,
     "metadata": {},
     "output_type": "execute_result"
    }
   ],
   "source": [
    "result = round(10 * list(model_binary.predict(data)[0])[0])\n",
    "if result < 1:\n",
    "    result = 1\n",
    "if result > 10:\n",
    "    result = 10\n",
    "list(model_binary.predict(data)[0])"
   ]
  },
  {
   "cell_type": "code",
   "execution_count": 38,
   "metadata": {},
   "outputs": [
    {
     "data": {
      "text/plain": [
       "4"
      ]
     },
     "execution_count": 38,
     "metadata": {},
     "output_type": "execute_result"
    }
   ],
   "source": [
    "result"
   ]
  },
  {
   "cell_type": "code",
   "execution_count": 39,
   "metadata": {},
   "outputs": [
    {
     "name": "stdout",
     "output_type": "stream",
     "text": [
      "Кол-во звезд отзыва 4\n"
     ]
    }
   ],
   "source": [
    "print('Кол-во звезд отзыва', result)"
   ]
  },
  {
   "cell_type": "code",
   "execution_count": 40,
   "metadata": {},
   "outputs": [
    {
     "name": "stdout",
     "output_type": "stream",
     "text": [
      "Отзыв отрицательный\n"
     ]
    }
   ],
   "source": [
    "if list(model_binary.predict(data)[0])[0] < 0.5:\n",
    "    print('Отзыв отрицательный')\n",
    "else:\n",
    "    print('Отзыв положительный')"
   ]
  },
  {
   "cell_type": "code",
   "execution_count": null,
   "metadata": {},
   "outputs": [],
   "source": []
  }
 ],
 "metadata": {
  "kernelspec": {
   "display_name": "Python 3",
   "language": "python",
   "name": "python3"
  },
  "language_info": {
   "codemirror_mode": {
    "name": "ipython",
    "version": 3
   },
   "file_extension": ".py",
   "mimetype": "text/x-python",
   "name": "python",
   "nbconvert_exporter": "python",
   "pygments_lexer": "ipython3",
   "version": "3.7.8"
  }
 },
 "nbformat": 4,
 "nbformat_minor": 2
}
